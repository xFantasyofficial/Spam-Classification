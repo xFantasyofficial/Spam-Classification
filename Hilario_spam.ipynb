{
 "cells": [
  {
   "cell_type": "code",
   "execution_count": 1,
   "id": "97e620ad",
   "metadata": {},
   "outputs": [
    {
     "ename": "SyntaxError",
     "evalue": "invalid syntax (2067127434.py, line 12)",
     "output_type": "error",
     "traceback": [
      "\u001b[1;36m  Cell \u001b[1;32mIn [1], line 12\u001b[1;36m\u001b[0m\n\u001b[1;33m    import tensorflow-gpu as tf\u001b[0m\n\u001b[1;37m                     ^\u001b[0m\n\u001b[1;31mSyntaxError\u001b[0m\u001b[1;31m:\u001b[0m invalid syntax\n"
     ]
    }
   ],
   "source": [
    "#import libraries\n",
    "import numpy as np \n",
    "import pandas as pd \n",
    "import matplotlib.pyplot as plt\n",
    "import seaborn as sns\n",
    "%matplotlib inline\n",
    "\n",
    "import warnings\n",
    "warnings.filterwarnings(\"ignore\")\n",
    "\n",
    "import pickle\n",
    "import tensorflow-gpu as tf\n"
   ]
  },
  {
   "cell_type": "code",
   "execution_count": 113,
   "id": "6da2548e",
   "metadata": {},
   "outputs": [
    {
     "data": {
      "text/html": [
       "<div>\n",
       "<style scoped>\n",
       "    .dataframe tbody tr th:only-of-type {\n",
       "        vertical-align: middle;\n",
       "    }\n",
       "\n",
       "    .dataframe tbody tr th {\n",
       "        vertical-align: top;\n",
       "    }\n",
       "\n",
       "    .dataframe thead th {\n",
       "        text-align: right;\n",
       "    }\n",
       "</style>\n",
       "<table border=\"1\" class=\"dataframe\">\n",
       "  <thead>\n",
       "    <tr style=\"text-align: right;\">\n",
       "      <th></th>\n",
       "      <th>v1</th>\n",
       "      <th>v2</th>\n",
       "      <th>Unnamed: 2</th>\n",
       "      <th>Unnamed: 3</th>\n",
       "      <th>Unnamed: 4</th>\n",
       "    </tr>\n",
       "  </thead>\n",
       "  <tbody>\n",
       "    <tr>\n",
       "      <th>0</th>\n",
       "      <td>ham</td>\n",
       "      <td>Go until jurong point, crazy.. Available only ...</td>\n",
       "      <td>NaN</td>\n",
       "      <td>NaN</td>\n",
       "      <td>NaN</td>\n",
       "    </tr>\n",
       "    <tr>\n",
       "      <th>1</th>\n",
       "      <td>ham</td>\n",
       "      <td>Ok lar... Joking wif u oni...</td>\n",
       "      <td>NaN</td>\n",
       "      <td>NaN</td>\n",
       "      <td>NaN</td>\n",
       "    </tr>\n",
       "    <tr>\n",
       "      <th>2</th>\n",
       "      <td>spam</td>\n",
       "      <td>Free entry in 2 a wkly comp to win FA Cup fina...</td>\n",
       "      <td>NaN</td>\n",
       "      <td>NaN</td>\n",
       "      <td>NaN</td>\n",
       "    </tr>\n",
       "    <tr>\n",
       "      <th>3</th>\n",
       "      <td>ham</td>\n",
       "      <td>U dun say so early hor... U c already then say...</td>\n",
       "      <td>NaN</td>\n",
       "      <td>NaN</td>\n",
       "      <td>NaN</td>\n",
       "    </tr>\n",
       "    <tr>\n",
       "      <th>4</th>\n",
       "      <td>ham</td>\n",
       "      <td>Nah I don't think he goes to usf, he lives aro...</td>\n",
       "      <td>NaN</td>\n",
       "      <td>NaN</td>\n",
       "      <td>NaN</td>\n",
       "    </tr>\n",
       "  </tbody>\n",
       "</table>\n",
       "</div>"
      ],
      "text/plain": [
       "     v1                                                 v2 Unnamed: 2  \\\n",
       "0   ham  Go until jurong point, crazy.. Available only ...        NaN   \n",
       "1   ham                      Ok lar... Joking wif u oni...        NaN   \n",
       "2  spam  Free entry in 2 a wkly comp to win FA Cup fina...        NaN   \n",
       "3   ham  U dun say so early hor... U c already then say...        NaN   \n",
       "4   ham  Nah I don't think he goes to usf, he lives aro...        NaN   \n",
       "\n",
       "  Unnamed: 3 Unnamed: 4  \n",
       "0        NaN        NaN  \n",
       "1        NaN        NaN  \n",
       "2        NaN        NaN  \n",
       "3        NaN        NaN  \n",
       "4        NaN        NaN  "
      ]
     },
     "execution_count": 113,
     "metadata": {},
     "output_type": "execute_result"
    }
   ],
   "source": [
    "#call dataset\n",
    "spamdata = pd.read_csv(\"spam.csv\",encoding='latin-1')\n",
    "\n",
    "spamdata.head()"
   ]
  },
  {
   "cell_type": "code",
   "execution_count": 114,
   "id": "7798e237",
   "metadata": {},
   "outputs": [],
   "source": [
    "data = spamdata.copy()\n",
    "data.drop(columns=[\"Unnamed: 2\", \"Unnamed: 3\", \"Unnamed: 4\"], inplace=True)\n",
    "data = data.rename(columns={\"v1\":\"label\", \"v2\":\"text\"})"
   ]
  },
  {
   "cell_type": "code",
   "execution_count": 115,
   "id": "671459ed",
   "metadata": {},
   "outputs": [
    {
     "data": {
      "text/plain": [
       "ham     4825\n",
       "spam     747\n",
       "Name: label, dtype: int64"
      ]
     },
     "execution_count": 115,
     "metadata": {},
     "output_type": "execute_result"
    }
   ],
   "source": [
    "data.label.value_counts()"
   ]
  },
  {
   "cell_type": "code",
   "execution_count": 116,
   "id": "6ce4b10f",
   "metadata": {},
   "outputs": [
    {
     "data": {
      "text/html": [
       "<div>\n",
       "<style scoped>\n",
       "    .dataframe tbody tr th:only-of-type {\n",
       "        vertical-align: middle;\n",
       "    }\n",
       "\n",
       "    .dataframe tbody tr th {\n",
       "        vertical-align: top;\n",
       "    }\n",
       "\n",
       "    .dataframe thead th {\n",
       "        text-align: right;\n",
       "    }\n",
       "</style>\n",
       "<table border=\"1\" class=\"dataframe\">\n",
       "  <thead>\n",
       "    <tr style=\"text-align: right;\">\n",
       "      <th></th>\n",
       "      <th>label</th>\n",
       "      <th>text</th>\n",
       "    </tr>\n",
       "  </thead>\n",
       "  <tbody>\n",
       "    <tr>\n",
       "      <th>0</th>\n",
       "      <td>0</td>\n",
       "      <td>Go until jurong point, crazy.. Available only ...</td>\n",
       "    </tr>\n",
       "    <tr>\n",
       "      <th>1</th>\n",
       "      <td>0</td>\n",
       "      <td>Ok lar... Joking wif u oni...</td>\n",
       "    </tr>\n",
       "    <tr>\n",
       "      <th>2</th>\n",
       "      <td>1</td>\n",
       "      <td>Free entry in 2 a wkly comp to win FA Cup fina...</td>\n",
       "    </tr>\n",
       "    <tr>\n",
       "      <th>3</th>\n",
       "      <td>0</td>\n",
       "      <td>U dun say so early hor... U c already then say...</td>\n",
       "    </tr>\n",
       "    <tr>\n",
       "      <th>4</th>\n",
       "      <td>0</td>\n",
       "      <td>Nah I don't think he goes to usf, he lives aro...</td>\n",
       "    </tr>\n",
       "  </tbody>\n",
       "</table>\n",
       "</div>"
      ],
      "text/plain": [
       "   label                                               text\n",
       "0      0  Go until jurong point, crazy.. Available only ...\n",
       "1      0                      Ok lar... Joking wif u oni...\n",
       "2      1  Free entry in 2 a wkly comp to win FA Cup fina...\n",
       "3      0  U dun say so early hor... U c already then say...\n",
       "4      0  Nah I don't think he goes to usf, he lives aro..."
      ]
     },
     "execution_count": 116,
     "metadata": {},
     "output_type": "execute_result"
    }
   ],
   "source": [
    "data['label'] = data['label'].map( {'spam': 1, 'ham': 0} )\n",
    "data.head()"
   ]
  },
  {
   "cell_type": "code",
   "execution_count": 117,
   "id": "d504ba43",
   "metadata": {},
   "outputs": [],
   "source": [
    "data_ham  = data[data['label'] == 0].copy()\n",
    "data_spam = data[data['label'] == 1].copy()"
   ]
  },
  {
   "cell_type": "code",
   "execution_count": 118,
   "id": "47d0e0bb",
   "metadata": {},
   "outputs": [],
   "source": [
    "from tensorflow.keras.preprocessing.sequence import pad_sequences\n",
    "from tensorflow.keras.preprocessing.text import Tokenizer\n",
    "from tensorflow.keras.models import Sequential\n",
    "from tensorflow.keras.layers import Dense\n",
    "from tensorflow.keras.layers import Flatten\n",
    "from tensorflow.keras.layers import Embedding\n",
    "from tensorflow.keras.callbacks import EarlyStopping\n",
    "from sklearn.model_selection import train_test_split\n",
    "\n",
    "X = data['text'].values\n",
    "y = data['label'].values\n",
    "X_train, X_test, y_train, y_test = train_test_split(X, y, test_size=0.20, random_state=42)"
   ]
  },
  {
   "cell_type": "code",
   "execution_count": 119,
   "id": "60d43b63",
   "metadata": {},
   "outputs": [
    {
     "name": "stdout",
     "output_type": "stream",
     "text": [
      "[[38, 30, 8, 5, 273, 1989, 81, 116, 26, 11, 1656, 322, 10, 53, 18, 299, 30, 349, 1990], [799, 15, 2555, 1442, 1127, 192, 2556, 171, 12, 98, 1991, 44, 195, 1657, 2557, 1992, 2558, 21, 9, 4, 203, 1025, 225]]\n"
     ]
    }
   ],
   "source": [
    "# prepare tokenizer\n",
    "t = Tokenizer()\n",
    "t.fit_on_texts(X_train)\n",
    "\n",
    "# integer encode the documents\n",
    "encoded_train = t.texts_to_sequences(X_train)\n",
    "encoded_test = t.texts_to_sequences(X_test)\n",
    "\n",
    "vocab_size = len(t.word_index) + 1\n",
    "\n",
    "print(encoded_train[0:2])"
   ]
  },
  {
   "cell_type": "code",
   "execution_count": 120,
   "id": "ef382363",
   "metadata": {},
   "outputs": [
    {
     "name": "stdout",
     "output_type": "stream",
     "text": [
      "[[ 322   10   53 ...   30  349 1990]\n",
      " [1992 2558   21 ...  203 1025  225]\n",
      " [  83 1443    4 ...    2 3794 3795]\n",
      " ...\n",
      " [1477   30 2063 ...  239   30 2064]\n",
      " [ 763 1679 1161 ...    0    0    0]\n",
      " [   8  155   20 ...    8  290  175]]\n"
     ]
    }
   ],
   "source": [
    "# pad documents to a max length of 4 words\n",
    "max_length = 8\n",
    "padded_train = pad_sequences(encoded_train, maxlen=max_length, padding='post')\n",
    "padded_test = pad_sequences(encoded_test, maxlen=max_length, padding='post')\n",
    "\n",
    "print(padded_train)"
   ]
  },
  {
   "cell_type": "code",
   "execution_count": 121,
   "id": "d36d0b0a",
   "metadata": {},
   "outputs": [
    {
     "name": "stdout",
     "output_type": "stream",
     "text": [
      "Model: \"sequential_4\"\n",
      "_________________________________________________________________\n",
      " Layer (type)                Output Shape              Param #   \n",
      "=================================================================\n",
      " embedding_4 (Embedding)     (None, 8, 24)             190920    \n",
      "                                                                 \n",
      " flatten_2 (Flatten)         (None, 192)               0         \n",
      "                                                                 \n",
      " dense_10 (Dense)            (None, 500)               96500     \n",
      "                                                                 \n",
      " dense_11 (Dense)            (None, 200)               100200    \n",
      "                                                                 \n",
      " dense_12 (Dense)            (None, 100)               20100     \n",
      "                                                                 \n",
      " dense_13 (Dense)            (None, 1)                 101       \n",
      "                                                                 \n",
      "=================================================================\n",
      "Total params: 407,821\n",
      "Trainable params: 407,821\n",
      "Non-trainable params: 0\n",
      "_________________________________________________________________\n",
      "None\n"
     ]
    }
   ],
   "source": [
    "# define the model\n",
    "model = Sequential()\n",
    "model.add(Embedding(vocab_size, 24, input_length=max_length))\n",
    "model.add(Flatten())\n",
    "model.add(Dense(500, activation='relu'))\n",
    "model.add(Dense(200, activation='relu'))\n",
    "model.add(Dense(100, activation='relu'))\n",
    "model.add(Dense(1, activation='sigmoid'))\n",
    "\n",
    "# compile the model\n",
    "model.compile(optimizer='rmsprop', loss='binary_crossentropy', metrics=['accuracy'])\n",
    "\n",
    "# summarize the model\n",
    "print(model.summary())"
   ]
  },
  {
   "cell_type": "code",
   "execution_count": 122,
   "id": "1d1408d5",
   "metadata": {},
   "outputs": [
    {
     "name": "stdout",
     "output_type": "stream",
     "text": [
      "Epoch 1/50\n",
      "140/140 [==============================] - 1s 5ms/step - loss: 0.1903 - accuracy: 0.9262 - val_loss: 0.1058 - val_accuracy: 0.9731\n",
      "Epoch 2/50\n",
      "140/140 [==============================] - 1s 4ms/step - loss: 0.0497 - accuracy: 0.9836 - val_loss: 0.0865 - val_accuracy: 0.9767\n",
      "Epoch 3/50\n",
      "140/140 [==============================] - 1s 4ms/step - loss: 0.0176 - accuracy: 0.9942 - val_loss: 0.0982 - val_accuracy: 0.9785\n",
      "Epoch 4/50\n",
      "140/140 [==============================] - 1s 4ms/step - loss: 0.0028 - accuracy: 0.9993 - val_loss: 0.1941 - val_accuracy: 0.9776\n",
      "Epoch 5/50\n",
      "140/140 [==============================] - 1s 4ms/step - loss: 8.0790e-04 - accuracy: 0.9998 - val_loss: 0.2360 - val_accuracy: 0.9758\n",
      "Epoch 6/50\n",
      "140/140 [==============================] - 1s 4ms/step - loss: 2.8087e-07 - accuracy: 1.0000 - val_loss: 0.2970 - val_accuracy: 0.9776\n",
      "Epoch 7/50\n",
      "140/140 [==============================] - 1s 4ms/step - loss: 1.9464e-09 - accuracy: 1.0000 - val_loss: 0.3118 - val_accuracy: 0.9758\n",
      "Epoch 8/50\n",
      "140/140 [==============================] - 1s 4ms/step - loss: 9.0809e-10 - accuracy: 1.0000 - val_loss: 0.3185 - val_accuracy: 0.9758\n",
      "Epoch 9/50\n",
      "140/140 [==============================] - 1s 4ms/step - loss: 6.4201e-10 - accuracy: 1.0000 - val_loss: 0.3229 - val_accuracy: 0.9758\n",
      "Epoch 10/50\n",
      "140/140 [==============================] - 1s 4ms/step - loss: 5.1078e-10 - accuracy: 1.0000 - val_loss: 0.3269 - val_accuracy: 0.9749\n",
      "Epoch 11/50\n",
      "140/140 [==============================] - 1s 4ms/step - loss: 4.4255e-10 - accuracy: 1.0000 - val_loss: 0.3302 - val_accuracy: 0.9749\n",
      "Epoch 12/50\n",
      "140/140 [==============================] - 1s 4ms/step - loss: 3.9663e-10 - accuracy: 1.0000 - val_loss: 0.3322 - val_accuracy: 0.9749\n",
      "Epoch 12: early stopping\n"
     ]
    },
    {
     "data": {
      "text/plain": [
       "<keras.callbacks.History at 0x2109e9b1160>"
      ]
     },
     "execution_count": 122,
     "metadata": {},
     "output_type": "execute_result"
    }
   ],
   "source": [
    "early_stop = EarlyStopping(monitor='val_loss', mode='min', verbose=1, patience=10)\n",
    "\n",
    "# fit the model\n",
    "model.fit(x=padded_train, \n",
    "          y=y_train, \n",
    "          epochs=50,\n",
    "          validation_data=(padded_test, y_test), verbose=1,\n",
    "          callbacks=[early_stop]\n",
    "          )"
   ]
  },
  {
   "cell_type": "code",
   "execution_count": 126,
   "id": "13d0caec",
   "metadata": {},
   "outputs": [
    {
     "name": "stdout",
     "output_type": "stream",
     "text": [
      "Accuracy: 97.488791\n"
     ]
    }
   ],
   "source": [
    "# evaluate the model\n",
    "loss, accuracy = model.evaluate(padded_test, y_test, verbose=0)\n",
    "print('Accuracy: %f' % (accuracy*100))"
   ]
  },
  {
   "cell_type": "code",
   "execution_count": 130,
   "id": "5b785ba1",
   "metadata": {},
   "outputs": [
    {
     "name": "stdout",
     "output_type": "stream",
     "text": [
      "INFO:tensorflow:Assets written to: spam_model\\assets\n"
     ]
    }
   ],
   "source": [
    "model.save(\"spam_model\")"
   ]
  },
  {
   "cell_type": "code",
   "execution_count": 131,
   "id": "564abe79",
   "metadata": {},
   "outputs": [],
   "source": [
    "with open('spam_model/tokenizer.pkl', 'wb') as output:\n",
    "    pickle.dump(t, output, pickle.HIGHEST_PROTOCOL)"
   ]
  },
  {
   "cell_type": "code",
   "execution_count": 132,
   "id": "6b743963",
   "metadata": {},
   "outputs": [],
   "source": [
    "s_model = tf.keras.models.load_model(\"spam_model\")\n",
    "\n",
    "with open('spam_model/tokenizer.pkl', 'rb') as input:\n",
    "    tokener = pickle.load(input)"
   ]
  },
  {
   "cell_type": "code",
   "execution_count": 134,
   "id": "fbf626c4",
   "metadata": {},
   "outputs": [
    {
     "name": "stdout",
     "output_type": "stream",
     "text": [
      "1/1 [==============================] - 0s 24ms/step\n"
     ]
    },
    {
     "data": {
      "text/plain": [
       "0"
      ]
     },
     "execution_count": 134,
     "metadata": {},
     "output_type": "execute_result"
    }
   ],
   "source": [
    "sms_test = [\"Feel Yourself That You Are Always Happy.. Slowly It Becomes Your Habit &amp; Finally It Becomes Part Of Your Life.. Follow It.. Happy Morning &amp; Have A Happy Day:)\"]\n",
    "\n",
    "\n",
    "sms_proc = tokener.texts_to_sequences(sms_test)\n",
    "sms_proc = pad_sequences(sms_proc, maxlen=max_length, padding='post')\n",
    "\n",
    "pred = (model.predict(sms_proc) > 0.5).astype(\"int32\").item()\n",
    "pred"
   ]
  },
  {
   "cell_type": "code",
   "execution_count": 135,
   "id": "e5a1c59b",
   "metadata": {},
   "outputs": [
    {
     "name": "stdout",
     "output_type": "stream",
     "text": [
      "1/1 [==============================] - 0s 21ms/step\n"
     ]
    },
    {
     "data": {
      "text/plain": [
       "0"
      ]
     },
     "execution_count": 135,
     "metadata": {},
     "output_type": "execute_result"
    }
   ],
   "source": [
    "sms_test = [\"staff.science.nus.edu.sg/~phyhcmk/teaching/pc1323\"]\n",
    "\n",
    "\n",
    "sms_proc = tokener.texts_to_sequences(sms_test)\n",
    "sms_proc = pad_sequences(sms_proc, maxlen=max_length, padding='post')\n",
    "\n",
    "pred = (model.predict(sms_proc) > 0.5).astype(\"int32\").item()\n",
    "pred"
   ]
  },
  {
   "cell_type": "code",
   "execution_count": 137,
   "id": "5cf0dcb7",
   "metadata": {},
   "outputs": [
    {
     "name": "stdout",
     "output_type": "stream",
     "text": [
      "1/1 [==============================] - 0s 20ms/step\n"
     ]
    },
    {
     "data": {
      "text/plain": [
       "0"
      ]
     },
     "execution_count": 137,
     "metadata": {},
     "output_type": "execute_result"
    }
   ],
   "source": [
    "sms_test = [\"Send me yetty's number pls.\"]\n",
    "\n",
    "\n",
    "sms_proc = tokener.texts_to_sequences(sms_test)\n",
    "sms_proc = pad_sequences(sms_proc, maxlen=max_length, padding='post')\n",
    "\n",
    "pred = (model.predict(sms_proc) > 0.5).astype(\"int32\").item()\n",
    "pred"
   ]
  },
  {
   "cell_type": "code",
   "execution_count": 138,
   "id": "7f93e53a",
   "metadata": {},
   "outputs": [
    {
     "name": "stdout",
     "output_type": "stream",
     "text": [
      "1/1 [==============================] - 0s 31ms/step\n"
     ]
    },
    {
     "data": {
      "text/plain": [
       "0"
      ]
     },
     "execution_count": 138,
     "metadata": {},
     "output_type": "execute_result"
    }
   ],
   "source": [
    "sms_test = [\"Hey so this sat are we going for the intro pilates only? Or the kickboxing too? \"]\n",
    "\n",
    "\n",
    "sms_proc = tokener.texts_to_sequences(sms_test)\n",
    "sms_proc = pad_sequences(sms_proc, maxlen=max_length, padding='post')\n",
    "\n",
    "pred = (model.predict(sms_proc) > 0.5).astype(\"int32\").item()\n",
    "pred"
   ]
  },
  {
   "cell_type": "code",
   "execution_count": 139,
   "id": "d127bf42",
   "metadata": {},
   "outputs": [
    {
     "name": "stdout",
     "output_type": "stream",
     "text": [
      "1/1 [==============================] - 0s 25ms/step\n"
     ]
    },
    {
     "data": {
      "text/plain": [
       "0"
      ]
     },
     "execution_count": 139,
     "metadata": {},
     "output_type": "execute_result"
    }
   ],
   "source": [
    "sms_test = [\"I got it before the new year cos yetunde said she wanted to surprise you with it but when i didnt see money i returned it mid january before the  &lt;#&gt; day return period ended.\"]\n",
    "\n",
    "\n",
    "sms_proc = tokener.texts_to_sequences(sms_test)\n",
    "sms_proc = pad_sequences(sms_proc, maxlen=max_length, padding='post')\n",
    "\n",
    "pred = (model.predict(sms_proc) > 0.5).astype(\"int32\").item()\n",
    "pred"
   ]
  },
  {
   "cell_type": "code",
   "execution_count": 140,
   "id": "5a562995",
   "metadata": {},
   "outputs": [
    {
     "name": "stdout",
     "output_type": "stream",
     "text": [
      "1/1 [==============================] - 0s 29ms/step\n"
     ]
    },
    {
     "data": {
      "text/plain": [
       "0"
      ]
     },
     "execution_count": 140,
     "metadata": {},
     "output_type": "execute_result"
    }
   ],
   "source": [
    "sms_test = [\"Hey we can go jazz power yoga hip hop kb and yogasana \"]\n",
    "\n",
    "\n",
    "sms_proc = tokener.texts_to_sequences(sms_test)\n",
    "sms_proc = pad_sequences(sms_proc, maxlen=max_length, padding='post')\n",
    "\n",
    "pred = (model.predict(sms_proc) > 0.5).astype(\"int32\").item()\n",
    "pred"
   ]
  },
  {
   "cell_type": "code",
   "execution_count": 141,
   "id": "0deca1e2",
   "metadata": {},
   "outputs": [
    {
     "name": "stdout",
     "output_type": "stream",
     "text": [
      "1/1 [==============================] - 0s 27ms/step\n"
     ]
    },
    {
     "data": {
      "text/plain": [
       "0"
      ]
     },
     "execution_count": 141,
     "metadata": {},
     "output_type": "execute_result"
    }
   ],
   "source": [
    "sms_test = [\"Hey mate. Spoke to the mag people. We‰Û÷re on.  the is deliver by the end of the month. Deliver on the 24th sept. Talk later. \"]\n",
    "\n",
    "\n",
    "sms_proc = tokener.texts_to_sequences(sms_test)\n",
    "sms_proc = pad_sequences(sms_proc, maxlen=max_length, padding='post')\n",
    "\n",
    "pred = (model.predict(sms_proc) > 0.5).astype(\"int32\").item()\n",
    "pred"
   ]
  },
  {
   "cell_type": "code",
   "execution_count": 142,
   "id": "8d12c103",
   "metadata": {},
   "outputs": [
    {
     "name": "stdout",
     "output_type": "stream",
     "text": [
      "1/1 [==============================] - 0s 24ms/step\n"
     ]
    },
    {
     "data": {
      "text/plain": [
       "0"
      ]
     },
     "execution_count": 142,
     "metadata": {},
     "output_type": "execute_result"
    }
   ],
   "source": [
    "sms_test = [\"Morning only i can ok.\"]\n",
    "\n",
    "\n",
    "sms_proc = tokener.texts_to_sequences(sms_test)\n",
    "sms_proc = pad_sequences(sms_proc, maxlen=max_length, padding='post')\n",
    "\n",
    "pred = (model.predict(sms_proc) > 0.5).astype(\"int32\").item()\n",
    "pred"
   ]
  },
  {
   "cell_type": "code",
   "execution_count": 143,
   "id": "2add76fb",
   "metadata": {},
   "outputs": [
    {
     "name": "stdout",
     "output_type": "stream",
     "text": [
      "1/1 [==============================] - 0s 27ms/step\n"
     ]
    },
    {
     "data": {
      "text/plain": [
       "0"
      ]
     },
     "execution_count": 143,
     "metadata": {},
     "output_type": "execute_result"
    }
   ],
   "source": [
    "sms_test = [\"Wat time Ì_ finish?\"]\n",
    "\n",
    "\n",
    "sms_proc = tokener.texts_to_sequences(sms_test)\n",
    "sms_proc = pad_sequences(sms_proc, maxlen=max_length, padding='post')\n",
    "\n",
    "pred = (model.predict(sms_proc) > 0.5).astype(\"int32\").item()\n",
    "pred"
   ]
  },
  {
   "cell_type": "code",
   "execution_count": 144,
   "id": "2121d526",
   "metadata": {},
   "outputs": [
    {
     "name": "stdout",
     "output_type": "stream",
     "text": [
      "1/1 [==============================] - 0s 30ms/step\n"
     ]
    },
    {
     "data": {
      "text/plain": [
       "0"
      ]
     },
     "execution_count": 144,
     "metadata": {},
     "output_type": "execute_result"
    }
   ],
   "source": [
    "sms_test = [\"Shant disturb u anymore... Jia you...\"]\n",
    "\n",
    "\n",
    "sms_proc = tokener.texts_to_sequences(sms_test)\n",
    "sms_proc = pad_sequences(sms_proc, maxlen=max_length, padding='post')\n",
    "\n",
    "pred = (model.predict(sms_proc) > 0.5).astype(\"int32\").item()\n",
    "pred"
   ]
  },
  {
   "cell_type": "code",
   "execution_count": 145,
   "id": "ec64a5d3",
   "metadata": {},
   "outputs": [
    {
     "name": "stdout",
     "output_type": "stream",
     "text": [
      "1/1 [==============================] - 0s 33ms/step\n"
     ]
    },
    {
     "data": {
      "text/plain": [
       "1"
      ]
     },
     "execution_count": 145,
     "metadata": {},
     "output_type": "execute_result"
    }
   ],
   "source": [
    "sms_test = [\"S4mths half price Orange line rental & latest camera phones 4 FREE. Had your phone 11mths ? Call MobilesDirect free on 08000938767 to update now! or2stoptxt\"]\n",
    "\n",
    "\n",
    "sms_proc = tokener.texts_to_sequences(sms_test)\n",
    "sms_proc = pad_sequences(sms_proc, maxlen=max_length, padding='post')\n",
    "\n",
    "pred = (model.predict(sms_proc) > 0.5).astype(\"int32\").item()\n",
    "pred"
   ]
  },
  {
   "cell_type": "code",
   "execution_count": 146,
   "id": "d373bec0",
   "metadata": {},
   "outputs": [
    {
     "name": "stdout",
     "output_type": "stream",
     "text": [
      "1/1 [==============================] - 0s 28ms/step\n"
     ]
    },
    {
     "data": {
      "text/plain": [
       "0"
      ]
     },
     "execution_count": 146,
     "metadata": {},
     "output_type": "execute_result"
    }
   ],
   "source": [
    "sms_test = [\"Your opinion about me? 1. Over 2. Jada 3. Kusruthi 4. Lovable 5. Silent 6. Spl character 7. Not matured 8. Stylish 9. Simple Pls reply..\"]\n",
    "\n",
    "\n",
    "sms_proc = tokener.texts_to_sequences(sms_test)\n",
    "sms_proc = pad_sequences(sms_proc, maxlen=max_length, padding='post')\n",
    "\n",
    "pred = (model.predict(sms_proc) > 0.5).astype(\"int32\").item()\n",
    "pred"
   ]
  },
  {
   "cell_type": "code",
   "execution_count": 147,
   "id": "f9f8666c",
   "metadata": {},
   "outputs": [
    {
     "name": "stdout",
     "output_type": "stream",
     "text": [
      "1/1 [==============================] - 0s 29ms/step\n"
     ]
    },
    {
     "data": {
      "text/plain": [
       "0"
      ]
     },
     "execution_count": 147,
     "metadata": {},
     "output_type": "execute_result"
    }
   ],
   "source": [
    "sms_test = [\"MOON has come to color your dreams, STARS to make them musical and my SMS to give you warm and Peaceful Sleep. Good Night\"]\n",
    "\n",
    "\n",
    "sms_proc = tokener.texts_to_sequences(sms_test)\n",
    "sms_proc = pad_sequences(sms_proc, maxlen=max_length, padding='post')\n",
    "\n",
    "pred = (model.predict(sms_proc) > 0.5).astype(\"int32\").item()\n",
    "pred"
   ]
  },
  {
   "cell_type": "code",
   "execution_count": 148,
   "id": "11ee0d60",
   "metadata": {},
   "outputs": [
    {
     "name": "stdout",
     "output_type": "stream",
     "text": [
      "1/1 [==============================] - 0s 28ms/step\n"
     ]
    },
    {
     "data": {
      "text/plain": [
       "1"
      ]
     },
     "execution_count": 148,
     "metadata": {},
     "output_type": "execute_result"
    }
   ],
   "source": [
    "sms_test = [\"You are a winner U have been specially selected 2 receive å£1000 cash or a 4* holiday (flights inc) speak to a live operator 2 claim 0871277810810\"]\n",
    "\n",
    "\n",
    "sms_proc = tokener.texts_to_sequences(sms_test)\n",
    "sms_proc = pad_sequences(sms_proc, maxlen=max_length, padding='post')\n",
    "\n",
    "pred = (model.predict(sms_proc) > 0.5).astype(\"int32\").item()\n",
    "pred"
   ]
  },
  {
   "cell_type": "code",
   "execution_count": 150,
   "id": "96f1dd33",
   "metadata": {},
   "outputs": [
    {
     "name": "stdout",
     "output_type": "stream",
     "text": [
      "1/1 [==============================] - 0s 23ms/step\n"
     ]
    },
    {
     "data": {
      "text/plain": [
       "0"
      ]
     },
     "execution_count": 150,
     "metadata": {},
     "output_type": "execute_result"
    }
   ],
   "source": [
    "sms_test = [\"Unless it's a situation where YOU GO GURL would be more appropriate\"]\n",
    "\n",
    "\n",
    "sms_proc = tokener.texts_to_sequences(sms_test)\n",
    "sms_proc = pad_sequences(sms_proc, maxlen=max_length, padding='post')\n",
    "\n",
    "pred = (model.predict(sms_proc) > 0.5).astype(\"int32\").item()\n",
    "pred\n"
   ]
  },
  {
   "cell_type": "code",
   "execution_count": 151,
   "id": "2813c2f4",
   "metadata": {},
   "outputs": [
    {
     "name": "stdout",
     "output_type": "stream",
     "text": [
      "1/1 [==============================] - 0s 28ms/step\n"
     ]
    },
    {
     "data": {
      "text/plain": [
       "0"
      ]
     },
     "execution_count": 151,
     "metadata": {},
     "output_type": "execute_result"
    }
   ],
   "source": [
    "sms_test = [\"www dat is sweet! We can think of something to do he he! Have a nice time tonight ill probably txt u later cos im lonely :( xxx.\"]\n",
    "\n",
    "\n",
    "sms_proc = tokener.texts_to_sequences(sms_test)\n",
    "sms_proc = pad_sequences(sms_proc, maxlen=max_length, padding='post')\n",
    "\n",
    "pred = (model.predict(sms_proc) > 0.5).astype(\"int32\").item()\n",
    "pred\n"
   ]
  },
  {
   "cell_type": "code",
   "execution_count": 152,
   "id": "33ba04ef",
   "metadata": {},
   "outputs": [
    {
     "name": "stdout",
     "output_type": "stream",
     "text": [
      "1/1 [==============================] - 0s 30ms/step\n"
     ]
    },
    {
     "data": {
      "text/plain": [
       "0"
      ]
     },
     "execution_count": 152,
     "metadata": {},
     "output_type": "execute_result"
    }
   ],
   "source": [
    "sms_test = [\"Bring tat cd don forget\"]\n",
    "\n",
    "\n",
    "sms_proc = tokener.texts_to_sequences(sms_test)\n",
    "sms_proc = pad_sequences(sms_proc, maxlen=max_length, padding='post')\n",
    "\n",
    "pred = (model.predict(sms_proc) > 0.5).astype(\"int32\").item()\n",
    "pred\n"
   ]
  },
  {
   "cell_type": "code",
   "execution_count": 153,
   "id": "6a2fe1b8",
   "metadata": {},
   "outputs": [
    {
     "name": "stdout",
     "output_type": "stream",
     "text": [
      "1/1 [==============================] - 0s 29ms/step\n"
     ]
    },
    {
     "data": {
      "text/plain": [
       "0"
      ]
     },
     "execution_count": 153,
     "metadata": {},
     "output_type": "execute_result"
    }
   ],
   "source": [
    "sms_test = [\"Single line with a big meaning::::: \\Miss anything 4 ur \\\"Best Life\\\" but\"]\n",
    "\n",
    "\n",
    "sms_proc = tokener.texts_to_sequences(sms_test)\n",
    "sms_proc = pad_sequences(sms_proc, maxlen=max_length, padding='post')\n",
    "\n",
    "pred = (model.predict(sms_proc) > 0.5).astype(\"int32\").item()\n",
    "pred\n"
   ]
  },
  {
   "cell_type": "code",
   "execution_count": 154,
   "id": "2434872e",
   "metadata": {},
   "outputs": [
    {
     "name": "stdout",
     "output_type": "stream",
     "text": [
      "1/1 [==============================] - 0s 31ms/step\n"
     ]
    },
    {
     "data": {
      "text/plain": [
       "0"
      ]
     },
     "execution_count": 154,
     "metadata": {},
     "output_type": "execute_result"
    }
   ],
   "source": [
    "sms_test = [\"Jay's getting really impatient and belligerent\"]\n",
    "\n",
    "\n",
    "sms_proc = tokener.texts_to_sequences(sms_test)\n",
    "sms_proc = pad_sequences(sms_proc, maxlen=max_length, padding='post')\n",
    "\n",
    "pred = (model.predict(sms_proc) > 0.5).astype(\"int32\").item()\n",
    "pred"
   ]
  },
  {
   "cell_type": "code",
   "execution_count": 155,
   "id": "1664c5b2",
   "metadata": {},
   "outputs": [
    {
     "name": "stdout",
     "output_type": "stream",
     "text": [
      "1/1 [==============================] - 0s 30ms/step\n"
     ]
    },
    {
     "data": {
      "text/plain": [
       "0"
      ]
     },
     "execution_count": 155,
     "metadata": {},
     "output_type": "execute_result"
    }
   ],
   "source": [
    "sms_test = [\"Lol they were mad at first but then they woke up and gave in.\"]\n",
    "\n",
    "\n",
    "sms_proc = tokener.texts_to_sequences(sms_test)\n",
    "sms_proc = pad_sequences(sms_proc, maxlen=max_length, padding='post')\n",
    "\n",
    "pred = (model.predict(sms_proc) > 0.5).astype(\"int32\").item()\n",
    "pred"
   ]
  },
  {
   "cell_type": "code",
   "execution_count": null,
   "id": "21776127",
   "metadata": {},
   "outputs": [],
   "source": []
  }
 ],
 "metadata": {
  "kernelspec": {
   "display_name": "Python 3 (ipykernel)",
   "language": "python",
   "name": "python3"
  },
  "language_info": {
   "codemirror_mode": {
    "name": "ipython",
    "version": 3
   },
   "file_extension": ".py",
   "mimetype": "text/x-python",
   "name": "python",
   "nbconvert_exporter": "python",
   "pygments_lexer": "ipython3",
   "version": "3.9.12"
  }
 },
 "nbformat": 4,
 "nbformat_minor": 5
}
